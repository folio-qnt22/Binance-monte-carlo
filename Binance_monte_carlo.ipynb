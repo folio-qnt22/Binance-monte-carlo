{
 "cells": [
  {
   "cell_type": "code",
   "execution_count": 1,
   "metadata": {},
   "outputs": [],
   "source": [
    "%matplotlib inline \n",
    "%config InlineBackend.figure_format='retina'\n",
    "import pandas as pd\n",
    "import numpy as np\n",
    "import time\n",
    "import  matplotlib.pyplot as plt\n",
    "import urllib.request, json \n",
    "import requests\n",
    "#import plotly\n",
    "#import plotly.graph_objects as go\n",
    "#from plotly.subplots import make_subplots\n",
    "import datetime\n",
    "\n",
    "\n",
    "def get_kline(startTime,limit,symbol,interval):\n",
    "    if interval[-1] == 'm':\n",
    "        endTime = int(startTime+(limit*int(interval[:-1])*60*1000))\n",
    "        \n",
    "    data = requests.get('https://fapi.binance.com/fapi/v1/klines', params={\"symbol\" : symbol,\n",
    "                                                        \"interval\" : interval, \n",
    "                                                        \"startTime\" : startTime,\n",
    "                                                        \"endTime\"   : endTime,\n",
    "                                                        \"limit\": limit}).json()\n",
    "    #data  = pd.DataFrame(data)\n",
    "    data  = pd.DataFrame(data,columns = ['timestamp', 'open', 'high', 'low', 'close', 'volume', 'close_time', 'quote_vol', 'no_of_trades', 'tb_base_vol', 'tb_quote_vol', 'ignore' ])\n",
    "    data.iloc[:,1:]=data.iloc[:,1:].astype(float)\n",
    "    data['time'] = pd.to_datetime(data['timestamp'], unit='ms')\n",
    "    return data"
   ]
  },
  {
   "cell_type": "code",
   "execution_count": 2,
   "metadata": {},
   "outputs": [],
   "source": [
    "lookback_date = \"31/05/2022\"\n",
    "date = datetime.datetime.strptime(lookback_date, \"%d/%m/%Y\")\n",
    "timestamp_lookback = datetime.datetime.timestamp(date)"
   ]
  },
  {
   "cell_type": "code",
   "execution_count": 3,
   "metadata": {},
   "outputs": [],
   "source": [
    "timestamp_now = datetime.datetime.now().timestamp()\n",
    "ticker = 'ETHUSDT'\n",
    "timeframe = '1m'\n",
    "time_del = timestamp_now-timestamp_lookback\n",
    "timestep = int(timeframe[:-1])\n",
    "no_loop  = round(time_del/(timestep*60*1000))"
   ]
  },
  {
   "cell_type": "code",
   "execution_count": 8,
   "metadata": {},
   "outputs": [
    {
     "name": "stdout",
     "output_type": "stream",
     "text": [
      "CPU times: user 441 ms, sys: 62.7 ms, total: 504 ms\n",
      "Wall time: 4.28 s\n"
     ]
    }
   ],
   "source": [
    "%%time\n",
    "#download the historical price, you can change the candle resolution\n",
    "kline = get_kline(startTime=timestamp_lookback*1000,limit=1000,symbol=ticker,interval=timeframe)\n",
    "for i in range(no_loop):\n",
    "    kline_temp = get_kline(startTime=kline['timestamp'].values[-1],limit=1000,symbol=ticker,interval=timeframe)\n",
    "    kline=pd.concat([kline,kline_temp]).drop_duplicates().reset_index(drop=True)\n",
    "    \n",
    "kline=pd.concat([kline,kline_temp]).drop_duplicates().reset_index(drop=True)\n",
    "kline = kline.groupby('timestamp').mean().reset_index() #getting rid of the repeated values\n",
    "kline['time'] = pd.to_datetime(kline['timestamp'], unit='ms')\n",
    "#download the historical price, you can change the candle resolution\n",
    "kline = get_kline(startTime=timestamp_lookback*1000,limit=1000,symbol=ticker,interval=timeframe)\n",
    "for i in range(no_loop):\n",
    "    kline_temp = get_kline(startTime=kline['timestamp'].values[-1],limit=1000,symbol=ticker,interval=timeframe)\n",
    "    kline=pd.concat([kline,kline_temp]).drop_duplicates().reset_index(drop=True)\n",
    "    \n",
    "kline=pd.concat([kline,kline_temp]).drop_duplicates().reset_index(drop=True)\n",
    "kline = kline.groupby('timestamp').mean().reset_index() #getting rid of the repeated values\n",
    "kline['time'] = pd.to_datetime(kline['timestamp'], unit='ms')\n",
    "\n",
    "\n",
    "\n",
    "#calculate the percentage change\n",
    "close_pct = kline['close'].pct_change()\n",
    "#removing NaN values\n",
    "close_pct  = close_pct[~np.isnan(close_pct)]\n",
    "\n",
    "\n",
    "#calculate the percentage change\n",
    "close_pct = kline['close'].pct_change()\n",
    "#removing NaN values\n",
    "close_pct  = close_pct[~np.isnan(close_pct)]"
   ]
  },
  {
   "cell_type": "code",
   "execution_count": 5,
   "metadata": {},
   "outputs": [
    {
     "data": {
      "text/plain": [
       "<matplotlib.axes._subplots.AxesSubplot at 0x7fe613029e20>"
      ]
     },
     "execution_count": 5,
     "metadata": {},
     "output_type": "execute_result"
    },
    {
     "data": {
      "image/png": "[encoded data removed]",
      "text/plain": [
       "<Figure size 432x288 with 1 Axes>"
      ]
     },
     "metadata": {
      "image/png": {
       "height": 248,
       "width": 380
      },
      "needs_background": "light"
     },
     "output_type": "display_data"
    }
   ],
   "source": [
    "close_pct.hist(bins=100)"
   ]
  },
  {
   "cell_type": "code",
   "execution_count": 6,
   "metadata": {},
   "outputs": [],
   "source": [
    "#####simulation settings#####\n",
    "no_of_candle = 1000\n",
    "sample_size = 1000\n",
    "sim_size=(no_of_candle,sample_size)\n",
    "########################\n",
    "# Drawing the random samples based on the historical price \n",
    "#here you can improve or change the distribution as you wish\n",
    "close_pct_sim = np.random.choice(close_pct,size=sim_size)\n",
    "########################\n",
    "close_ic= kline['close'].iloc[-1]\n",
    "close_sim = close_ic*(close_pct_sim+1).cumprod(axis=0)\n",
    "\n",
    "time_ic=kline['timestamp'].iloc[-1]\n",
    "timestep= kline['timestamp'].iloc[1]-kline['timestamp'].iloc[0]\n",
    "time_sim = np.arange(no_of_candle)*timestep+time_ic"
   ]
  },
  {
   "cell_type": "code",
   "execution_count": null,
   "metadata": {},
   "outputs": [],
   "source": [
    "df=pd.DataFrame(close_sim)\n",
    "df.index = pd.to_datetime(time_sim,unit='ms')\n",
    "close_ic= kline['close'].iloc[-1]\n",
    "price_pred_std    = np.std(close_sim,axis=1)\n",
    "# plotly figure\n",
    "fig=go.Figure()\n",
    "for i in range(1, sample_size):\n",
    "        #print(str(i))\n",
    "        fig.add_trace(go.Scatter(x=df.index,\n",
    "                                 y=df[df.columns[i]].values,\n",
    "                                 showlegend=False,           # hides trace name from legend\n",
    "                                 hoverinfo='skip',           # turns off hoverinfo\n",
    "                                 name = 'random walk',\n",
    "                                 mode = 'lines',\n",
    "                                 line_color='black',\n",
    "                                 opacity = 0.005\n",
    "                                )\n",
    "                     )\n",
    "\n",
    "# add median of all rows to the plot\n",
    "df_median=df.median(axis=1).to_frame()\n",
    "df_median.columns=['median']\n",
    "# show median\n",
    "fig.add_trace(go.Scatter(x=df_median.index, y=df_median['median'].values,\n",
    "                          name='Predicted Median Price',\n",
    "                          line_color='red',\n",
    "                          line=dict(width=2),\n",
    "                          mode='lines')\n",
    "             )\n",
    "\n",
    "fig.add_trace(go.Scatter(x=df_median.index, y=df_median['median'].values-price_pred_std,\n",
    "                          name='Lower 1 Sigma',\n",
    "                          line_color='orange',\n",
    "                          line=dict(width=2,dash = 'dot'),\n",
    "                          mode='lines')\n",
    "             )\n",
    "\n",
    "fig.add_trace(go.Scatter(x=df_median.index, y=df_median['median'].values+price_pred_std,\n",
    "                          name='Upper 1 Sigma',\n",
    "                          line_color='orange',\n",
    "                          line=dict(width=2,dash = 'dot'),\n",
    "                          mode='lines')\n",
    "             )\n",
    "\n",
    "\n",
    "fig.show()"
   ]
  },
  {
   "cell_type": "code",
   "execution_count": 7,
   "metadata": {},
   "outputs": [
    {
     "name": "stdout",
     "output_type": "stream",
     "text": [
      "median:  1785.5343848547295\n",
      "high:  1843.5980557287921\n",
      "low:  1727.470713980667\n"
     ]
    },
    {
     "data": {
      "image/png": "[encoded data removed]",
      "text/plain": [
       "<Figure size 432x288 with 1 Axes>"
      ]
     },
     "metadata": {
      "image/png": {
       "height": 261,
       "width": 377
      },
      "needs_background": "light"
     },
     "output_type": "display_data"
    }
   ],
   "source": [
    "plt.hist(close_sim[-1,:],bins=100)\n",
    "plt.xlabel('Predicted Final Price')\n",
    "print('median: ',np.median(close_sim[-1,:]))\n",
    "print('high: '  ,np.median(close_sim[-1,:])+np.std(close_sim[-1,:]))\n",
    "print('low: '   ,np.median(close_sim[-1,:])-np.std(close_sim[-1,:]))"
   ]
  },
  {
   "cell_type": "code",
   "execution_count": null,
   "metadata": {},
   "outputs": [],
   "source": []
  }
 ],
 "metadata": {
  "kernelspec": {
   "display_name": "Python 3",
   "language": "python",
   "name": "python3"
  },
  "language_info": {
   "codemirror_mode": {
    "name": "ipython",
    "version": 3
   },
   "file_extension": ".py",
   "mimetype": "text/x-python",
   "name": "python",
   "nbconvert_exporter": "python",
   "pygments_lexer": "ipython3",
   "version": "3.8.3"
  }
 },
 "nbformat": 4,
 "nbformat_minor": 4
}
